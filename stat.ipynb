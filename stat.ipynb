{
 "cells": [
  {
   "cell_type": "code",
   "execution_count": 1,
   "metadata": {},
   "outputs": [
    {
     "data": {
      "text/plain": [
       "0                           Nintendo\n",
       "1                           Nintendo\n",
       "2                           Nintendo\n",
       "3                           Nintendo\n",
       "4                           Nintendo\n",
       "5                           Nintendo\n",
       "6                           Nintendo\n",
       "7                           Nintendo\n",
       "8                           Nintendo\n",
       "9                           Nintendo\n",
       "10                          Nintendo\n",
       "11                          Nintendo\n",
       "12                          Nintendo\n",
       "13                          Nintendo\n",
       "14                          Nintendo\n",
       "15            Microsoft Game Studios\n",
       "16              Take-Two Interactive\n",
       "17              Take-Two Interactive\n",
       "18                          Nintendo\n",
       "19                          Nintendo\n",
       "20                          Nintendo\n",
       "21                          Nintendo\n",
       "22                          Nintendo\n",
       "23              Take-Two Interactive\n",
       "24              Take-Two Interactive\n",
       "25                          Nintendo\n",
       "26                          Nintendo\n",
       "27                          Nintendo\n",
       "28       Sony Computer Entertainment\n",
       "29                        Activision\n",
       "                    ...             \n",
       "16568    Sony Computer Entertainment\n",
       "16569                         Capcom\n",
       "16570              UIG Entertainment\n",
       "16571                      Prototype\n",
       "16572                Kadokawa Shoten\n",
       "16573                 Popcorn Arcade\n",
       "16574                    Takara Tomy\n",
       "16575                     Tecmo Koei\n",
       "16576           Alternative Software\n",
       "16577                    Codemasters\n",
       "16578                        Mastiff\n",
       "16579                     Infogrames\n",
       "16580                Kadokawa Shoten\n",
       "16581                        Unknown\n",
       "16582                          Titus\n",
       "16583             Virgin Interactive\n",
       "16584                        Ubisoft\n",
       "16585                      Destineer\n",
       "16586                    Deep Silver\n",
       "16587                    Hudson Soft\n",
       "16588          Majesco Entertainment\n",
       "16589                dramatic create\n",
       "16590             Falcom Corporation\n",
       "16591                        Ubisoft\n",
       "16592                      Destineer\n",
       "16593                          Kemco\n",
       "16594                     Infogrames\n",
       "16595                     Activision\n",
       "16596                       7G//AMES\n",
       "16597                        Wanadoo\n",
       "Name: Publisher, Length: 16598, dtype: object"
      ]
     },
     "execution_count": 1,
     "metadata": {},
     "output_type": "execute_result"
    }
   ],
   "source": [
    "import pandas as pd\n",
    "import matplotlib.pyplot as plt\n",
    "import numpy as np\n",
    "data = pd.read_csv(\"Z:\\\\SEM7\\\\DataAnal\\\\vgsales.csv\")\n",
    "data.Publisher"
   ]
  },
  {
   "cell_type": "code",
   "execution_count": 2,
   "metadata": {},
   "outputs": [
    {
     "data": {
      "text/plain": [
       "0        29.12\n",
       "1         3.58\n",
       "2        12.88\n",
       "3        11.11\n",
       "4         8.89\n",
       "5         2.26\n",
       "6         9.23\n",
       "7         9.20\n",
       "8         7.16\n",
       "9         1.63\n",
       "10       11.00\n",
       "11        7.57\n",
       "12        6.18\n",
       "13        8.13\n",
       "14        8.59\n",
       "15        4.94\n",
       "16        9.27\n",
       "17        1.40\n",
       "18        3.75\n",
       "19        9.26\n",
       "20        4.52\n",
       "21        2.71\n",
       "22        3.44\n",
       "23        5.31\n",
       "24        5.49\n",
       "25        3.90\n",
       "26        3.28\n",
       "27        5.36\n",
       "28        5.19\n",
       "29        4.28\n",
       "         ...  \n",
       "16568     1.00\n",
       "16569     1.00\n",
       "16570     1.11\n",
       "16571     1.00\n",
       "16572     1.00\n",
       "16573     1.00\n",
       "16574     1.00\n",
       "16575     1.00\n",
       "16576     1.11\n",
       "16577     1.11\n",
       "16578     1.00\n",
       "16579     1.00\n",
       "16580     1.00\n",
       "16581     1.11\n",
       "16582     1.00\n",
       "16583     1.00\n",
       "16584     1.00\n",
       "16585     1.00\n",
       "16586     1.11\n",
       "16587     1.00\n",
       "16588     1.00\n",
       "16589     1.00\n",
       "16590     1.00\n",
       "16591     1.00\n",
       "16592     1.00\n",
       "16593     1.00\n",
       "16594     1.00\n",
       "16595     1.00\n",
       "16596     1.11\n",
       "16597     1.00\n",
       "Name: EU_Sales, Length: 16598, dtype: float64"
      ]
     },
     "execution_count": 2,
     "metadata": {},
     "output_type": "execute_result"
    }
   ],
   "source": [
    "eu=data.EU_Sales\n",
    "eu"
   ]
  },
  {
   "cell_type": "code",
   "execution_count": 3,
   "metadata": {},
   "outputs": [
    {
     "data": {
      "text/plain": [
       "1.1570026509218132"
      ]
     },
     "execution_count": 3,
     "metadata": {},
     "output_type": "execute_result"
    }
   ],
   "source": [
    "eu.mean()"
   ]
  },
  {
   "cell_type": "code",
   "execution_count": 4,
   "metadata": {},
   "outputs": [
    {
     "data": {
      "text/plain": [
       "1.121296470118617"
      ]
     },
     "execution_count": 4,
     "metadata": {},
     "output_type": "execute_result"
    }
   ],
   "source": [
    "import scipy\n",
    "from scipy import stats\n",
    "scipy.stats.hmean(data.loc[:,\"EU_Sales\"])"
   ]
  },
  {
   "cell_type": "code",
   "execution_count": 5,
   "metadata": {},
   "outputs": [
    {
     "data": {
      "text/plain": [
       "1.1341491078993093"
      ]
     },
     "execution_count": 5,
     "metadata": {},
     "output_type": "execute_result"
    }
   ],
   "source": [
    "scipy.stats.gmean(eu)\n"
   ]
  },
  {
   "cell_type": "code",
   "execution_count": 6,
   "metadata": {},
   "outputs": [
    {
     "data": {
      "text/plain": [
       "0.21999999999999997"
      ]
     },
     "execution_count": 6,
     "metadata": {},
     "output_type": "execute_result"
    }
   ],
   "source": [
    "scipy.stats.iqr(data.NA_Sales)"
   ]
  },
  {
   "cell_type": "code",
   "execution_count": 7,
   "metadata": {},
   "outputs": [
    {
     "data": {
      "text/plain": [
       "{'whiskers': [<matplotlib.lines.Line2D at 0x247dc6a35f8>,\n",
       "  <matplotlib.lines.Line2D at 0x247dc6a3a90>],\n",
       " 'caps': [<matplotlib.lines.Line2D at 0x247dc6a3eb8>,\n",
       "  <matplotlib.lines.Line2D at 0x247dc6b7320>],\n",
       " 'boxes': [<matplotlib.lines.Line2D at 0x247dc6a34a8>],\n",
       " 'medians': [<matplotlib.lines.Line2D at 0x247dc6b7748>],\n",
       " 'fliers': [<matplotlib.lines.Line2D at 0x247dc6b7b70>],\n",
       " 'means': []}"
      ]
     },
     "execution_count": 7,
     "metadata": {},
     "output_type": "execute_result"
    },
    {
     "data": {
      "image/png": "[encoded data removed]",
      "text/plain": [
       "<Figure size 432x288 with 1 Axes>"
      ]
     },
     "metadata": {},
     "output_type": "display_data"
    }
   ],
   "source": [
    "plt.boxplot(data.NA_Sales)"
   ]
  },
  {
   "cell_type": "code",
   "execution_count": 9,
   "metadata": {},
   "outputs": [
    {
     "data": {
      "text/plain": [
       "{'whiskers': [<matplotlib.lines.Line2D at 0x247dc811940>,\n",
       "  <matplotlib.lines.Line2D at 0x247dc811d68>],\n",
       " 'caps': [<matplotlib.lines.Line2D at 0x247dc811eb8>,\n",
       "  <matplotlib.lines.Line2D at 0x247dc8185f8>],\n",
       " 'boxes': [<matplotlib.lines.Line2D at 0x247dc811518>],\n",
       " 'medians': [<matplotlib.lines.Line2D at 0x247dc818a20>],\n",
       " 'fliers': [<matplotlib.lines.Line2D at 0x247dc818e48>],\n",
       " 'means': []}"
      ]
     },
     "execution_count": 9,
     "metadata": {},
     "output_type": "execute_result"
    },
    {
     "data": {
      "image/png": "[encoded data removed]",
      "text/plain": [
       "<Figure size 432x288 with 1 Axes>"
      ]
     },
     "metadata": {},
     "output_type": "display_data"
    }
   ],
   "source": [
    "plt.boxplot(data.NA_Sales)\n",
    "\n",
    "\n"
   ]
  },
  {
   "cell_type": "code",
   "execution_count": 10,
   "metadata": {},
   "outputs": [
    {
     "data": {
      "text/plain": [
       "{'whiskers': [<matplotlib.lines.Line2D at 0x247dc87f320>,\n",
       "  <matplotlib.lines.Line2D at 0x247dc87f7b8>],\n",
       " 'caps': [<matplotlib.lines.Line2D at 0x247dc87fbe0>,\n",
       "  <matplotlib.lines.Line2D at 0x247dc888048>],\n",
       " 'boxes': [<matplotlib.lines.Line2D at 0x247dc87f1d0>],\n",
       " 'medians': [<matplotlib.lines.Line2D at 0x247dc888470>],\n",
       " 'fliers': [<matplotlib.lines.Line2D at 0x247dc888898>],\n",
       " 'means': []}"
      ]
     },
     "execution_count": 10,
     "metadata": {},
     "output_type": "execute_result"
    },
    {
     "data": {
      "image/png": "[encoded data removed]",
      "text/plain": [
       "<Figure size 432x288 with 1 Axes>"
      ]
     },
     "metadata": {},
     "output_type": "display_data"
    }
   ],
   "source": [
    "plt.boxplot(data.EU_Sales)"
   ]
  },
  {
   "cell_type": "code",
   "execution_count": 11,
   "metadata": {},
   "outputs": [
    {
     "data": {
      "text/plain": [
       "{'whiskers': [<matplotlib.lines.Line2D at 0x247ddac6f60>,\n",
       "  <matplotlib.lines.Line2D at 0x247ddad2438>],\n",
       " 'caps': [<matplotlib.lines.Line2D at 0x247ddad2860>,\n",
       "  <matplotlib.lines.Line2D at 0x247ddad2c88>],\n",
       " 'boxes': [<matplotlib.lines.Line2D at 0x247ddac6e10>],\n",
       " 'medians': [<matplotlib.lines.Line2D at 0x247ddad80f0>],\n",
       " 'fliers': [<matplotlib.lines.Line2D at 0x247ddad8518>],\n",
       " 'means': []}"
      ]
     },
     "execution_count": 11,
     "metadata": {},
     "output_type": "execute_result"
    },
    {
     "data": {
      "image/png": "[encoded data removed]",
      "text/plain": [
       "<Figure size 432x288 with 1 Axes>"
      ]
     },
     "metadata": {},
     "output_type": "display_data"
    }
   ],
   "source": [
    "plt.boxplot(data.JP_Sales)"
   ]
  },
  {
   "cell_type": "code",
   "execution_count": 12,
   "metadata": {},
   "outputs": [
    {
     "data": {
      "text/plain": [
       "{'whiskers': [<matplotlib.lines.Line2D at 0x247ddb20c18>,\n",
       "  <matplotlib.lines.Line2D at 0x247ddb280f0>],\n",
       " 'caps': [<matplotlib.lines.Line2D at 0x247ddb28518>,\n",
       "  <matplotlib.lines.Line2D at 0x247ddb28940>],\n",
       " 'boxes': [<matplotlib.lines.Line2D at 0x247ddb20ac8>],\n",
       " 'medians': [<matplotlib.lines.Line2D at 0x247ddb28d68>],\n",
       " 'fliers': [<matplotlib.lines.Line2D at 0x247ddb311d0>],\n",
       " 'means': []}"
      ]
     },
     "execution_count": 12,
     "metadata": {},
     "output_type": "execute_result"
    },
    {
     "data": {
      "image/png": "[encoded data removed]",
      "text/plain": [
       "<Figure size 432x288 with 1 Axes>"
      ]
     },
     "metadata": {},
     "output_type": "display_data"
    }
   ],
   "source": [
    "plt.boxplot(data.Other_Sales)"
   ]
  },
  {
   "cell_type": "code",
   "execution_count": 13,
   "metadata": {},
   "outputs": [
    {
     "data": {
      "image/png": "[encoded data removed]",
      "text/plain": [
       "<Figure size 432x288 with 1 Axes>"
      ]
     },
     "metadata": {},
     "output_type": "display_data"
    }
   ],
   "source": [
    "import seaborn as sns\n",
    "ax=sns.countplot(x=\"Genre\",data=data.sample(10))"
   ]
  },
  {
   "cell_type": "code",
   "execution_count": 15,
   "metadata": {},
   "outputs": [
    {
     "data": {
      "image/png": "[encoded data removed]",
      "text/plain": [
       "<Figure size 432x288 with 1 Axes>"
      ]
     },
     "metadata": {},
     "output_type": "display_data"
    }
   ],
   "source": [
    "m=data.Genre.sample(10)\n",
    "n=data.EU_Sales.sample(10)\n",
    "plt.pie(n,labels=m,autopct='%.1f%%',startangle=90)\n",
    "plt.show()\n",
    "\n"
   ]
  },
  {
   "cell_type": "code",
   "execution_count": 16,
   "metadata": {},
   "outputs": [
    {
     "data": {
      "image/png": "[encoded data removed]",
      "text/plain": [
       "<Figure size 432x288 with 1 Axes>"
      ]
     },
     "metadata": {},
     "output_type": "display_data"
    }
   ],
   "source": [
    "plt.bar(data.Genre.sample(10),data.EU_Sales.sample(10))\n",
    "plt.show()"
   ]
  },
  {
   "cell_type": "code",
   "execution_count": null,
   "metadata": {},
   "outputs": [],
   "source": []
  }
 ],
 "metadata": {
  "kernelspec": {
   "display_name": "Python 3",
   "language": "python",
   "name": "python3"
  },
  "language_info": {
   "codemirror_mode": {
    "name": "ipython",
    "version": 3
   },
   "file_extension": ".py",
   "mimetype": "text/x-python",
   "name": "python",
   "nbconvert_exporter": "python",
   "pygments_lexer": "ipython3",
   "version": "3.6.5"
  }
 },
 "nbformat": 4,
 "nbformat_minor": 2
}
